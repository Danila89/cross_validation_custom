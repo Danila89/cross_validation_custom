{
 "cells": [
  {
   "cell_type": "code",
   "execution_count": 27,
   "metadata": {
    "collapsed": false
   },
   "outputs": [],
   "source": [
    "import numpy as np\n",
    "import pandas as pd\n",
    "from cross_val_custom import cross_validation_score_statement, cross_validation_score_fit_subset\n",
    "from sklearn.datasets import load_boston\n",
    "from sklearn.ensemble import GradientBoostingRegressor\n",
    "from sklearn.model_selection import cross_val_predict\n",
    "from sklearn.metrics import mean_absolute_error"
   ]
  },
  {
   "cell_type": "markdown",
   "metadata": {},
   "source": [
    "Let's load Boston dataset and add 20 outliers"
   ]
  },
  {
   "cell_type": "code",
   "execution_count": 30,
   "metadata": {
    "collapsed": false
   },
   "outputs": [],
   "source": [
    "X,y = load_boston(return_X_y=True)\n",
    "np.random.seed(0)\n",
    "for i in range(20):\n",
    "    y[np.random.randint(0,y.shape[0]+1)] += 50"
   ]
  },
  {
   "cell_type": "markdown",
   "metadata": {},
   "source": [
    "Now we're making out-of-fold predictions of target"
   ]
  },
  {
   "cell_type": "code",
   "execution_count": 39,
   "metadata": {
    "collapsed": false
   },
   "outputs": [
    {
     "name": "stdout",
     "output_type": "stream",
     "text": [
      "Populating the interactive namespace from numpy and matplotlib\n"
     ]
    },
    {
     "data": {
      "text/plain": [
       "[<matplotlib.lines.Line2D at 0xc990550>]"
      ]
     },
     "execution_count": 39,
     "metadata": {},
     "output_type": "execute_result"
    },
    {
     "data": {
      "image/png": "[encoded data removed]",
      "text/plain": [
       "<matplotlib.figure.Figure at 0xcbbb550>"
      ]
     },
     "metadata": {},
     "output_type": "display_data"
    }
   ],
   "source": [
    "%pylab inline\n",
    "y_pred = cross_val_predict(estimator=GradientBoostingRegressor(random_state=0,n_estimators=100),X=X,y=y,cv=5)\n",
    "fig, ax = plt.subplots()\n",
    "ax.scatter(y=y,x=y_pred)\n",
    "ax.set_xlabel('Predicted value')\n",
    "ax.set_ylabel('True value')\n",
    "lims = [\n",
    "    np.min([ax.get_xlim(), ax.get_ylim()]),  # min of both axes\n",
    "    np.max([ax.get_xlim(), ax.get_ylim()]),  # max of both axes\n",
    "]\n",
    "ax.plot(lims, lims, 'k-', alpha=0.75, zorder=0)"
   ]
  },
  {
   "cell_type": "markdown",
   "metadata": {},
   "source": [
    "The majority of points is not far from the y=x line. However we see our outliers in the left top corner (since we added 50 to some objects' targets). In the right bottom corner we see the abnormal high predictions caused by the presence of the outliers in the dataset.\n",
    "If we will use cross-validation now for tuning the parameters of our model - we will be mostly trying to fix these 'bad' points instead of improving quality for the majority of 'normal' objects. This is especially the case when the metric is sensitive to outliers (MSE, R2, ...)"
   ]
  },
  {
   "cell_type": "markdown",
   "metadata": {},
   "source": [
    "It might be better to improve accuracy on the 'normal' objects situated not so far from y=x. These objects are the majority. We can't just drop outliers since we won't be able to detect them in the test dataset when target is unknown.\n",
    "The approach can be like this. We say: \"OK, we can't improve outliers much, let's try to improve quality on the 'normal' objects\".\n",
    "During cross-validation on each iteration we use all objects to perform fit, but use only normal objects for scoring.\n",
    "We define objects with absolute error > 25 as outliers and do not calculate score for them (statement=~outliers_mask)."
   ]
  },
  {
   "cell_type": "code",
   "execution_count": 41,
   "metadata": {
    "collapsed": false
   },
   "outputs": [
    {
     "data": {
      "text/plain": [
       "array([ 3.69233287,  3.61079391,  4.13051729,  3.83593642,  3.92674495])"
      ]
     },
     "execution_count": 41,
     "metadata": {},
     "output_type": "execute_result"
    }
   ],
   "source": [
    "outliers_mask = np.absolute(y-y_pred)>25\n",
    "cross_validation_score_statement(estimator=GradientBoostingRegressor(random_state=0),X=pd.DataFrame(X),y=pd.Series(y),n_splits=5,\n",
    "                                 statement=~outliers_mask,scoring=mean_absolute_error)"
   ]
  },
  {
   "cell_type": "markdown",
   "metadata": {
    "collapsed": false
   },
   "source": [
    "In some cases dropping outliers from the train can increase accuracy on test. Now are oing this: we fit only 'normal' objects, but predict and score all objects."
   ]
  },
  {
   "cell_type": "code",
   "execution_count": 42,
   "metadata": {
    "collapsed": false
   },
   "outputs": [
    {
     "data": {
      "text/plain": [
       "array([ 4.21334503,  4.06242579,  4.96166443,  4.31248986,  4.16140199])"
      ]
     },
     "execution_count": 42,
     "metadata": {},
     "output_type": "execute_result"
    }
   ],
   "source": [
    "cross_validation_score_fit_subset(estimator=GradientBoostingRegressor(random_state=0),X=pd.DataFrame(X),y=pd.Series(y),n_splits=5,\n",
    "                                  statement=~outliers_mask,scoring=mean_absolute_error)"
   ]
  },
  {
   "cell_type": "markdown",
   "metadata": {},
   "source": [
    "Note, that the output of cross_validation_score_statement is not an assessment of your score on real test data. It is just a measure of how good is the particular estimator predicting 'normal' objects. The only use of this function is for comparing different machine learning pipelines.\n",
    "The cross_validation_score_fit_subset is an assessment of the score on real test data while it scores every object including outliers. By this function you can check if there is a sense to drop outliers from train."
   ]
  }
 ],
 "metadata": {
  "anaconda-cloud": {},
  "kernelspec": {
   "display_name": "Python [Root]",
   "language": "python",
   "name": "Python [Root]"
  },
  "language_info": {
   "codemirror_mode": {
    "name": "ipython",
    "version": 2
   },
   "file_extension": ".py",
   "mimetype": "text/x-python",
   "name": "python",
   "nbconvert_exporter": "python",
   "pygments_lexer": "ipython2",
   "version": "2.7.12"
  }
 },
 "nbformat": 4,
 "nbformat_minor": 0
}
